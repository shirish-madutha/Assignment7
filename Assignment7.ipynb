{
 "cells": [
  {
   "cell_type": "code",
   "execution_count": 1,
   "id": "de6f6f55-c611-4264-8115-ee9d879b06a8",
   "metadata": {},
   "outputs": [
    {
     "name": "stdout",
     "output_type": "stream",
     "text": [
      "4134711838987085478833841242112000\n"
     ]
    }
   ],
   "source": [
    "\"\"\" Q1. Create a function which will take a list as an argument and return the \n",
    "product of all the numbers after creating a flat list.\n",
    "Use the below-given list as an argument for your function.\n",
    "list1 = [1,2,3,4, [44,55,66, True], False, (34,56,78,89,34), {1,2,3,3,2,1}, \n",
    "{1:34, \"key2\": [55, 67, 78, 89], 4: (45,22, 61, 34)}, [56, 'data science'], \n",
    "'Machine Learning']\n",
    "Note: you must extract numeric keys and values of the dictionary also. \"\"\"\n",
    "\n",
    "l = [1,2,3,4, [44,55,66, True], False, (34,56,78,89,34), {1,2,3,3,2,1}, \n",
    "     {1:34, \"key2\": [55, 67, 78, 89], 4: (45,22, 61, 34)}, [56, 'data science'],\n",
    "     'Machine Learning']\n",
    "\n",
    "def fun(n):\n",
    "    product=1\n",
    "    if type(n)==int:\n",
    "        product*=n\n",
    "                \n",
    "    elif type(n)==list or type(n)==tuple or type(n)==set:\n",
    "        for i in n:\n",
    "            if type(i)==int:\n",
    "                product*=i\n",
    "            else:\n",
    "                product*=fun(i)\n",
    "                \n",
    "    elif type(n)==dict:\n",
    "        a=list(n.keys())\n",
    "        b=list(n.values())\n",
    "        c=a+b\n",
    "        if type(c)!=int:\n",
    "            product*=fun(c)\n",
    "                \n",
    "    return product\n",
    "\n",
    "print(fun(l))            "
   ]
  },
  {
   "cell_type": "code",
   "execution_count": 7,
   "id": "dfadcc9e-c21b-42f8-a421-5e8d1d64e397",
   "metadata": {},
   "outputs": [
    {
     "name": "stdout",
     "output_type": "stream",
     "text": [
      "r$dzmg$gl$yvxlnv$z$wzgz$hxrvmgrhg\n"
     ]
    }
   ],
   "source": [
    "\"\"\" Q2. Write a python program for encrypting a message sent to you by your friend. The logic of encryption\n",
    "should be such that, for a the output should be z. For b, the output should be y. For c, the output should\n",
    "be x respectively. Also, the whitespace should be replaced with a dollar sign. Keep the punctuation\n",
    "marks unchanged.\n",
    "Input Sentence: I want to become a Data Scientist.\n",
    "Encrypt the above input sentence using the program you just created.\n",
    "Note: Convert the given input sentence into lowercase before encrypting. The final output should be\n",
    "lowercase. \"\"\"\n",
    "\n",
    "s=\"I want to become a Data Scientist.\"\n",
    "s1=\"_abcdefghijklmnopqrstuvwxyz\"\n",
    "encrypt=\"\"\n",
    "\n",
    "for i in s.lower():\n",
    "    if i==\" \":\n",
    "        encrypt+=\"$\"\n",
    "    for j in range(len(s1)):\n",
    "        if i==s1[j]:\n",
    "            encrypt+=s1[-j]\n",
    "            \n",
    "print(encrypt)\n"
   ]
  }
 ],
 "metadata": {
  "kernelspec": {
   "display_name": "Python 3 (ipykernel)",
   "language": "python",
   "name": "python3"
  },
  "language_info": {
   "codemirror_mode": {
    "name": "ipython",
    "version": 3
   },
   "file_extension": ".py",
   "mimetype": "text/x-python",
   "name": "python",
   "nbconvert_exporter": "python",
   "pygments_lexer": "ipython3",
   "version": "3.10.8"
  }
 },
 "nbformat": 4,
 "nbformat_minor": 5
}
